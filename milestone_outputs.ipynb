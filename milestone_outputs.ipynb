{
 "cells": [
  {
   "metadata": {},
   "cell_type": "markdown",
   "source": "# Imports",
   "id": "545ecf4ba1867251"
  },
  {
   "cell_type": "code",
   "execution_count": null,
   "id": "initial_id",
   "metadata": {
    "collapsed": true
   },
   "outputs": [],
   "source": [
    "from datasets import load_dataset\n",
    "from infrastructure.db.mongo import connection as mongo_connection\n",
    "from infrastructure.db.qdrant import connection as qdrant_connection\n",
    "from settings import settings\n",
    "from transformers import AutoModel, AutoTokenizer\n",
    "from app import gradio_app"
   ]
  },
  {
   "metadata": {},
   "cell_type": "markdown",
   "source": "# ETL Milestone",
   "id": "d309468644367015"
  },
  {
   "metadata": {},
   "cell_type": "code",
   "outputs": [],
   "execution_count": null,
   "source": "mongo_db = mongo_connection.get_database(settings.DATABASE_NAME)",
   "id": "b7cb112671ecc10e"
  },
  {
   "metadata": {},
   "cell_type": "markdown",
   "source": "## Fetch users",
   "id": "7bc1bb3c859d9b0f"
  },
  {
   "metadata": {},
   "cell_type": "code",
   "outputs": [],
   "execution_count": null,
   "source": [
    "collection_name = 'users'\n",
    "user_collection = mongo_db[collection_name]\n",
    "\n",
    "users = user_collection.find()\n",
    "for user in users:\n",
    "  print(user)"
   ],
   "id": "a61fec6840fbb34a"
  },
  {
   "metadata": {},
   "cell_type": "markdown",
   "source": "## Fetch repos",
   "id": "84cabff4b8ddd76f"
  },
  {
   "metadata": {},
   "cell_type": "code",
   "outputs": [],
   "execution_count": null,
   "source": [
    "collection_name = 'repositories'\n",
    "repo_collection = mongo_db[collection_name]\n",
    "\n",
    "repos = repo_collection.find().limit(5)\n",
    "\n",
    "print(\"Repositories Links:\")\n",
    "for repo in repos:\n",
    "  print(repo.link)"
   ],
   "id": "5cdee008f6a9c00"
  },
  {
   "metadata": {},
   "cell_type": "code",
   "outputs": [],
   "execution_count": null,
   "source": [
    "print(\"Repositories Content:\")\n",
    "for repo in repos:\n",
    "  print(repo.content)"
   ],
   "id": "e2a5fa32f0db491e"
  },
  {
   "metadata": {},
   "cell_type": "markdown",
   "source": "## Fetch Youtube video sources",
   "id": "8f72d7266d27e932"
  },
  {
   "metadata": {},
   "cell_type": "code",
   "outputs": [],
   "execution_count": null,
   "source": [
    "collection_name = 'videos'\n",
    "youtube_collection = mongo_db[collection_name]\n",
    "\n",
    "youtube_sources = youtube_collection.find().limit(5)\n",
    "\n",
    "print(\"Youtube sources Links:\")\n",
    "for youtube_source in youtube_sources:\n",
    "  print(youtube_source.link)"
   ],
   "id": "3a40d93b2589de31"
  },
  {
   "metadata": {},
   "cell_type": "code",
   "outputs": [],
   "execution_count": null,
   "source": [
    "print(\"Youtube sources Content:\")\n",
    "for youtube_source in youtube_sources:\n",
    "  print(youtube_source.content)"
   ],
   "id": "7484b744d88107ae"
  },
  {
   "metadata": {},
   "cell_type": "markdown",
   "source": "# Feature Pipeline Milestone",
   "id": "c3c023864d9ac7bf"
  },
  {
   "metadata": {},
   "cell_type": "markdown",
   "source": "## Fetch cleaned repositories data",
   "id": "531d672df5a234ef"
  },
  {
   "metadata": {},
   "cell_type": "code",
   "outputs": [],
   "execution_count": null,
   "source": [
    "collection_name = 'cleaned_repositories'\n",
    "\n",
    "records, _ = qdrant_connection.scroll(\n",
    "  collection_name=collection_name,\n",
    "  limit=5,\n",
    "  with_payload=True,\n",
    "  with_vectors=False,\n",
    ")\n",
    "\n",
    "print(\"Cleaned repositories data:\")\n",
    "for record in records:\n",
    "  print(record)"
   ],
   "id": "9c3058efe7b626f6"
  },
  {
   "metadata": {},
   "cell_type": "markdown",
   "source": "## Fetch cleaned youtube sources data",
   "id": "c5b12315d149c7d2"
  },
  {
   "metadata": {},
   "cell_type": "code",
   "outputs": [],
   "execution_count": null,
   "source": [
    "collection_name = 'cleaned_videos'\n",
    "\n",
    "records, _ = qdrant_connection.scroll(\n",
    "  collection_name=collection_name,\n",
    "  limit=5,\n",
    "  with_payload=True,\n",
    "  with_vectors=False,\n",
    ")\n",
    "\n",
    "print(\"Cleaned youtube sources data:\")\n",
    "for record in records:\n",
    "  print(record)"
   ],
   "id": "79751b7204c36446"
  },
  {
   "metadata": {},
   "cell_type": "markdown",
   "source": "## Fetch embedded and chunked repositories data",
   "id": "47194ad5c64af409"
  },
  {
   "metadata": {},
   "cell_type": "code",
   "outputs": [],
   "execution_count": null,
   "source": [
    "collection_name = 'embedded_repositories'\n",
    "\n",
    "records, _ = qdrant_connection.scroll(\n",
    "  collection_name=collection_name,\n",
    "  limit=5,\n",
    "  with_payload=True,\n",
    "  with_vectors=False,\n",
    ")\n",
    "\n",
    "print(\"Embedded repositories data:\")\n",
    "for record in records:\n",
    "  print(record)"
   ],
   "id": "47d9a7ef0b110fde"
  },
  {
   "metadata": {},
   "cell_type": "markdown",
   "source": "## Fetch embedded youtube sources data",
   "id": "abce5e33d7e5f82e"
  },
  {
   "metadata": {},
   "cell_type": "code",
   "outputs": [],
   "execution_count": null,
   "source": [
    "collection_name = 'embedded_videos'\n",
    "\n",
    "records, _ = qdrant_connection.scroll(\n",
    "  collection_name=collection_name,\n",
    "  limit=5,\n",
    "  with_payload=True,\n",
    "  with_vectors=False,\n",
    ")\n",
    "\n",
    "print(\"Embedded youtube sources data:\")\n",
    "for record in records:\n",
    "  print(record)"
   ],
   "id": "94e9a1d9ec54d764"
  },
  {
   "metadata": {},
   "cell_type": "markdown",
   "source": "# Finetuning Milestone",
   "id": "8a678141d8ffbf22"
  },
  {
   "metadata": {},
   "cell_type": "markdown",
   "source": "## Fetch instruct dataset data",
   "id": "a8786e6926778279"
  },
  {
   "metadata": {},
   "cell_type": "code",
   "outputs": [],
   "execution_count": null,
   "source": [
    "instruct_dataset = load_dataset(path=settings.DATASET_ID, split='train')\n",
    "print(\"Example samples:\")\n",
    "print(instruct_dataset.select(range(5)))"
   ],
   "id": "f559619a46d8fb40"
  },
  {
   "metadata": {},
   "cell_type": "markdown",
   "source": "## Fetch finetuned model",
   "id": "9345e6b86ee3a51b"
  },
  {
   "metadata": {},
   "cell_type": "code",
   "outputs": [],
   "execution_count": null,
   "source": [
    "model_name = settings.HF_MODEL_ID\n",
    "\n",
    "model = AutoModel.from_pretrained(model_name)\n",
    "tokenizer = AutoTokenizer.from_pretrained(model_name)\n",
    "\n",
    "print(\"Model Properties:\")\n",
    "print(f\"Model Name: {model_name}\")\n",
    "print(f\"Model Architecture: {model.config.architectures}\")\n",
    "print(f\"Number of Parameters: {model.num_parameters()}\")\n",
    "\n",
    "print(\"\\nTokenizer Properties:\")\n",
    "print(f\"Vocabulary Size: {tokenizer.vocab_size}\")\n",
    "print(f\"Tokenizer Type: {type(tokenizer).__name__}\")"
   ],
   "id": "2d07fbd1941a501b"
  },
  {
   "metadata": {},
   "cell_type": "markdown",
   "source": "# Deploy Milestone",
   "id": "e372c6fcb6bc946e"
  },
  {
   "metadata": {},
   "cell_type": "code",
   "outputs": [],
   "execution_count": null,
   "source": "gradio_app.launch()",
   "id": "f74515b8c7316861"
  }
 ],
 "metadata": {
  "kernelspec": {
   "display_name": "Python 3",
   "language": "python",
   "name": "python3"
  },
  "language_info": {
   "codemirror_mode": {
    "name": "ipython",
    "version": 2
   },
   "file_extension": ".py",
   "mimetype": "text/x-python",
   "name": "python",
   "nbconvert_exporter": "python",
   "pygments_lexer": "ipython2",
   "version": "2.7.6"
  }
 },
 "nbformat": 4,
 "nbformat_minor": 5
}
